{
  "nbformat": 4,
  "nbformat_minor": 0,
  "metadata": {
    "colab": {
      "provenance": [],
      "authorship_tag": "ABX9TyN0MkLWwZWR0zxfXyAKHlnT",
      "include_colab_link": true
    },
    "kernelspec": {
      "name": "python3",
      "display_name": "Python 3"
    },
    "language_info": {
      "name": "python"
    }
  },
  "cells": [
    {
      "cell_type": "markdown",
      "metadata": {
        "id": "view-in-github",
        "colab_type": "text"
      },
      "source": [
        "<a href=\"https://colab.research.google.com/github/zugbaa/RUSU_projekt_email_spam_filter/blob/main/Email_spam_filter_LSTM.ipynb\" target=\"_parent\"><img src=\"https://colab.research.google.com/assets/colab-badge.svg\" alt=\"Open In Colab\"/></a>"
      ]
    },
    {
      "cell_type": "code",
      "execution_count": null,
      "metadata": {
        "id": "HtQbQ0a6IgfJ"
      },
      "outputs": [],
      "source": [
        "import pandas as pd\n",
        "from sklearn.model_selection import train_test_split\n",
        "from sklearn.preprocessing import LabelEncoder\n",
        "from tensorflow.keras.preprocessing.text import Tokenizer\n",
        "from tensorflow.keras.preprocessing.sequence import pad_sequences\n",
        "from tensorflow.keras.models import Sequential\n",
        "from tensorflow.keras.layers import Embedding, LSTM, Dense, Dropout\n"
      ]
    },
    {
      "cell_type": "code",
      "source": [
        "from google.colab import drive\n",
        "drive.mount('/content/drive')"
      ],
      "metadata": {
        "colab": {
          "base_uri": "https://localhost:8080/"
        },
        "id": "NEPMXZYAJBsa",
        "outputId": "91be6c10-9798-4ae4-a011-27f87e4aa729"
      },
      "execution_count": null,
      "outputs": [
        {
          "output_type": "stream",
          "name": "stdout",
          "text": [
            "Mounted at /content/drive\n"
          ]
        }
      ]
    },
    {
      "cell_type": "code",
      "source": [
        "# Load the dataset\n",
        "df = pd.read_csv(\"/content/drive/My Drive/spam.csv\")\n",
        "\n",
        "df = df[['Body', 'Label']]\n",
        "\n",
        "print(df)"
      ],
      "metadata": {
        "colab": {
          "base_uri": "https://localhost:8080/"
        },
        "id": "LaJR7cnmgYO-",
        "outputId": "6837348a-98bc-43a9-b059-0265e442d2d3"
      },
      "execution_count": null,
      "outputs": [
        {
          "output_type": "stream",
          "name": "stdout",
          "text": [
            "                                                   Body  Label\n",
            "0     Subject: stock promo mover : cwtd\\n * * * urge...      1\n",
            "1     Subject: are you listed in major search engine...      1\n",
            "2     Subject: important information thu , 30 jun 20...      1\n",
            "3     Subject: = ? utf - 8 ? q ? bask your life with...      1\n",
            "4     Subject: \" bidstogo \" is places to go , things...      1\n",
            "...                                                 ...    ...\n",
            "3995  Subject: revison # 1 - hpl noms . for november...      0\n",
            "3996  Subject: hpl nom for december 27 , 2000\\n ( se...      0\n",
            "3997  Subject: akamai\\n kevin ,\\n i have followed up...      0\n",
            "3998  Subject: re : summary spreadsheet for data ven...      0\n",
            "3999  Subject: re : congratulations\\n congratulation...      0\n",
            "\n",
            "[4000 rows x 2 columns]\n"
          ]
        }
      ]
    },
    {
      "cell_type": "code",
      "source": [
        "\n",
        "X_train, X_test, y_train, y_test = train_test_split(df['Body'], df['Label'], stratify=df['Label'])"
      ],
      "metadata": {
        "id": "Da7_kaCDgipz"
      },
      "execution_count": null,
      "outputs": []
    },
    {
      "cell_type": "code",
      "source": [
        "# Tokenize the email text\n",
        "tokenizer = Tokenizer(num_words=10000)\n",
        "tokenizer.fit_on_texts(X_train)\n",
        "\n",
        "# Convert the text data to sequences\n",
        "X_train = tokenizer.texts_to_sequences(X_train)\n",
        "X_test = tokenizer.texts_to_sequences(X_test)\n",
        "\n",
        "# Pad the sequences to have the same length\n",
        "X_train = pad_sequences(X_train, maxlen=100)\n",
        "X_test = pad_sequences(X_test, maxlen=100)\n"
      ],
      "metadata": {
        "id": "fNrjGTzjglfE"
      },
      "execution_count": null,
      "outputs": []
    },
    {
      "cell_type": "code",
      "source": [
        "# Define the model architecture\n",
        "model = Sequential()\n",
        "model.add(Embedding(10000, 100, input_length=100))\n",
        "model.add(LSTM(128))\n",
        "model.add(Dense(units=64, activation='relu'))\n",
        "model.add(Dropout(0.5))\n",
        "model.add(Dense(1, activation='sigmoid'))\n",
        "\n",
        "# Compile the model\n",
        "model.compile(optimizer='adam', loss='binary_crossentropy', metrics=['accuracy'])\n",
        "\n",
        "# Print the model summary\n",
        "print(model.summary())\n"
      ],
      "metadata": {
        "colab": {
          "base_uri": "https://localhost:8080/"
        },
        "id": "gAC_O3u_gnh3",
        "outputId": "50d9b82a-7b80-4947-8f7b-2c5e0cac1720"
      },
      "execution_count": null,
      "outputs": [
        {
          "output_type": "stream",
          "name": "stdout",
          "text": [
            "Model: \"sequential\"\n",
            "_________________________________________________________________\n",
            " Layer (type)                Output Shape              Param #   \n",
            "=================================================================\n",
            " embedding (Embedding)       (None, 100, 100)          1000000   \n",
            "                                                                 \n",
            " lstm (LSTM)                 (None, 128)               117248    \n",
            "                                                                 \n",
            " dense (Dense)               (None, 64)                8256      \n",
            "                                                                 \n",
            " dropout (Dropout)           (None, 64)                0         \n",
            "                                                                 \n",
            " dense_1 (Dense)             (None, 1)                 65        \n",
            "                                                                 \n",
            "=================================================================\n",
            "Total params: 1,125,569\n",
            "Trainable params: 1,125,569\n",
            "Non-trainable params: 0\n",
            "_________________________________________________________________\n",
            "None\n"
          ]
        }
      ]
    },
    {
      "cell_type": "code",
      "source": [
        "model.fit(X_train, y_train, epochs=5)"
      ],
      "metadata": {
        "colab": {
          "base_uri": "https://localhost:8080/"
        },
        "id": "As2j-A96gv27",
        "outputId": "3eebd3bb-0b09-4f15-faf3-4dce47ae4a6d"
      },
      "execution_count": null,
      "outputs": [
        {
          "output_type": "stream",
          "name": "stdout",
          "text": [
            "Epoch 1/5\n",
            "94/94 [==============================] - 27s 250ms/step - loss: 0.3628 - accuracy: 0.8390\n",
            "Epoch 2/5\n",
            "94/94 [==============================] - 21s 229ms/step - loss: 0.0719 - accuracy: 0.9810\n",
            "Epoch 3/5\n",
            "94/94 [==============================] - 24s 253ms/step - loss: 0.0251 - accuracy: 0.9940\n",
            "Epoch 4/5\n",
            "94/94 [==============================] - 21s 225ms/step - loss: 0.0107 - accuracy: 0.9963\n",
            "Epoch 5/5\n",
            "94/94 [==============================] - 23s 246ms/step - loss: 0.0089 - accuracy: 0.9977\n"
          ]
        },
        {
          "output_type": "execute_result",
          "data": {
            "text/plain": [
              "<keras.callbacks.History at 0x7ff20bd86c80>"
            ]
          },
          "metadata": {},
          "execution_count": 7
        }
      ]
    },
    {
      "cell_type": "code",
      "source": [
        "# Evaluate the model\n",
        "loss, accuracy = model.evaluate(X_test, y_test)\n",
        "print('Test Loss:', loss)\n",
        "print('Test Accuracy:', accuracy)"
      ],
      "metadata": {
        "colab": {
          "base_uri": "https://localhost:8080/"
        },
        "id": "js4RTXlcgyFR",
        "outputId": "149d4a9d-8ac0-4fbc-f06f-bd812e0c596e"
      },
      "execution_count": null,
      "outputs": [
        {
          "output_type": "stream",
          "name": "stdout",
          "text": [
            "32/32 [==============================] - 2s 58ms/step - loss: 0.2197 - accuracy: 0.9570\n",
            "Test Loss: 0.21968264877796173\n",
            "Test Accuracy: 0.9570000171661377\n"
          ]
        }
      ]
    },
    {
      "cell_type": "code",
      "source": [
        "y_predicted = model.predict(X_test)\n",
        "y_predicted = y_predicted.flatten()\n",
        "print(y_predicted)"
      ],
      "metadata": {
        "colab": {
          "base_uri": "https://localhost:8080/"
        },
        "id": "E3ePGYZHg002",
        "outputId": "2c774162-dd38-43fd-9357-cb0311fd2059"
      },
      "execution_count": null,
      "outputs": [
        {
          "output_type": "stream",
          "name": "stdout",
          "text": [
            "32/32 [==============================] - 3s 81ms/step\n",
            "[9.99999166e-01 1.47066126e-02 1.01019767e-04 9.99996424e-01\n",
            " 8.43475580e-01 9.99999881e-01 2.09339745e-02 9.99859929e-01\n",
            " 6.38234269e-05 2.09206773e-05 4.66883757e-05 9.99986410e-01\n",
            " 9.99940455e-01 9.99892235e-01 3.82780581e-06 3.05302024e-06\n",
            " 9.99999702e-01 5.07463883e-05 2.59921580e-06 1.96394149e-06\n",
            " 2.75656043e-06 7.23622888e-02 1.04471728e-05 9.99999821e-01\n",
            " 3.10367341e-07 5.00977476e-05 1.00000000e+00 3.22839187e-05\n",
            " 9.99997973e-01 4.94302913e-06 9.99998808e-01 8.02340874e-05\n",
            " 9.99998927e-01 2.04965454e-05 1.20375745e-07 1.91865738e-07\n",
            " 1.24460189e-02 8.72872988e-06 9.99999166e-01 9.99998748e-01\n",
            " 5.02798102e-05 9.99419808e-01 3.56586315e-05 1.00000000e+00\n",
            " 9.89603400e-01 7.07513630e-01 9.99994278e-01 9.99998629e-01\n",
            " 9.99999821e-01 1.00000000e+00 4.23105035e-07 9.99687374e-01\n",
            " 3.50085060e-07 6.35733704e-06 1.21927857e-04 5.34934103e-01\n",
            " 1.24354563e-06 6.96902589e-07 4.19059470e-05 1.35788038e-01\n",
            " 2.70931159e-05 5.02975035e-06 9.97300148e-01 1.37881580e-05\n",
            " 5.83439283e-02 4.00508009e-03 9.99999523e-01 9.99853611e-01\n",
            " 9.99999881e-01 9.99984741e-01 9.99084175e-01 2.74962918e-06\n",
            " 9.99996126e-01 9.99999285e-01 1.04315497e-03 9.99999583e-01\n",
            " 8.39374579e-08 1.04809708e-07 9.99955714e-01 9.99999106e-01\n",
            " 1.00000000e+00 2.36300213e-04 8.63284990e-02 9.99996781e-01\n",
            " 1.52387770e-07 9.99998808e-01 9.99999821e-01 1.79659560e-06\n",
            " 9.51080799e-01 2.29665475e-05 9.99999404e-01 9.99984682e-01\n",
            " 4.91830906e-06 1.09647274e-01 9.99999940e-01 9.99999881e-01\n",
            " 9.99995708e-01 9.99999881e-01 1.51259883e-05 9.99902070e-01\n",
            " 4.23105035e-07 9.99999762e-01 9.99999762e-01 1.46297098e-05\n",
            " 7.44696823e-04 1.83054435e-05 9.99998391e-01 9.99972105e-01\n",
            " 8.33663762e-06 9.99716938e-01 1.00000000e+00 4.59232228e-03\n",
            " 9.99942362e-01 6.66978485e-06 6.85107648e-01 1.00000000e+00\n",
            " 1.64036654e-04 1.84103300e-07 1.38367170e-07 9.99999464e-01\n",
            " 9.99770761e-01 3.16703017e-06 9.42472517e-01 1.19272059e-04\n",
            " 5.84806685e-06 9.90183294e-01 9.99910772e-01 9.99993384e-01\n",
            " 4.60686169e-06 1.18513719e-06 9.99989927e-01 9.99686658e-01\n",
            " 7.20754906e-05 9.99998808e-01 1.77047763e-03 2.20786816e-07\n",
            " 9.99936461e-01 7.92913698e-03 9.99992847e-01 9.99993205e-01\n",
            " 9.84899879e-01 1.69475388e-04 9.99987662e-01 9.99981761e-01\n",
            " 9.60648239e-01 1.99294271e-04 9.99999285e-01 2.83835163e-07\n",
            " 7.05556033e-07 6.16803982e-06 9.23951375e-05 9.99731183e-01\n",
            " 1.05418621e-04 7.44605768e-06 6.27155623e-06 1.03995833e-03\n",
            " 9.99999881e-01 8.97169866e-06 9.99994099e-01 9.99999583e-01\n",
            " 3.55021075e-05 2.13320436e-06 9.99999881e-01 9.99999583e-01\n",
            " 9.99999881e-01 1.13456778e-01 2.90490221e-04 9.99105453e-01\n",
            " 1.55032589e-03 1.00000000e+00 1.42177919e-06 2.53689377e-05\n",
            " 1.15447810e-05 9.99999940e-01 1.01314890e-05 9.99999881e-01\n",
            " 9.99241769e-01 1.00000000e+00 8.75920887e-06 1.46486691e-05\n",
            " 4.40432331e-07 9.84801412e-01 8.34513230e-06 2.31978440e-04\n",
            " 9.99999464e-01 9.99999523e-01 9.99996722e-01 1.00000000e+00\n",
            " 1.34555958e-04 6.06250296e-07 9.99995470e-01 4.63363685e-05\n",
            " 1.00000000e+00 1.00000000e+00 1.94112581e-05 9.99991953e-01\n",
            " 1.94222011e-05 9.99995291e-01 2.50985806e-07 2.31523742e-03\n",
            " 1.77628081e-03 1.72855049e-01 9.99999821e-01 4.88220576e-05\n",
            " 2.52207826e-07 3.37789825e-05 1.61867647e-05 1.09341181e-05\n",
            " 7.69606054e-01 2.24913339e-04 9.99998569e-01 8.73526733e-06\n",
            " 9.99999881e-01 2.71562040e-01 1.16165902e-05 9.99997318e-01\n",
            " 9.99999881e-01 9.99999583e-01 1.00000000e+00 9.99999642e-01\n",
            " 4.13678492e-07 6.02816954e-06 9.99994636e-01 1.70560239e-03\n",
            " 9.97168541e-01 9.99999464e-01 4.26571796e-06 2.23661140e-01\n",
            " 9.99999940e-01 2.73118326e-06 1.00000000e+00 9.48973954e-01\n",
            " 9.99999642e-01 1.90147723e-04 5.42976486e-05 1.27809824e-06\n",
            " 8.52219091e-06 9.99999881e-01 1.24354563e-06 9.99998331e-01\n",
            " 7.29703333e-06 9.99746680e-01 3.86081609e-07 9.99999702e-01\n",
            " 9.99996960e-01 1.37512933e-03 9.99999821e-01 7.86955297e-06\n",
            " 9.97870445e-01 9.99999940e-01 5.20102412e-06 3.92878064e-05\n",
            " 7.80856340e-07 9.99999106e-01 1.00000000e+00 9.99975443e-01\n",
            " 9.99999166e-01 2.00431878e-05 9.99999940e-01 9.99997973e-01\n",
            " 9.99999881e-01 9.99999940e-01 3.05807681e-08 9.99999583e-01\n",
            " 4.75540173e-06 9.99995589e-01 9.99999642e-01 9.99999940e-01\n",
            " 9.99964058e-01 1.00000000e+00 2.11782550e-04 1.51896691e-02\n",
            " 9.97336507e-01 2.06374866e-03 5.67357638e-05 2.13637213e-06\n",
            " 3.03324359e-03 9.99653161e-01 9.99683201e-01 1.45200056e-06\n",
            " 9.99999523e-01 1.03841841e-04 2.22748640e-05 1.56669430e-02\n",
            " 1.91740673e-05 4.22228884e-04 1.95047520e-02 9.99980867e-01\n",
            " 9.99996543e-01 1.13525428e-03 1.26584894e-06 1.44159349e-04\n",
            " 5.20164394e-06 9.99998927e-01 9.99995172e-01 1.04129567e-05\n",
            " 9.99999464e-01 5.70144380e-07 2.34265576e-06 4.87832760e-04\n",
            " 2.22389275e-07 9.99997318e-01 2.15742858e-07 3.04279752e-06\n",
            " 2.94591723e-06 9.99203324e-01 9.99997973e-01 9.99996424e-01\n",
            " 9.99999940e-01 1.00000000e+00 2.06794152e-06 8.04438964e-02\n",
            " 4.69457433e-08 6.35455310e-01 9.99996006e-01 3.97517397e-05\n",
            " 1.00000000e+00 3.86184729e-05 9.99999940e-01 1.54747453e-04\n",
            " 9.99998093e-01 3.56976943e-06 9.99999702e-01 5.14065641e-06\n",
            " 7.47371014e-05 9.99997497e-01 1.44381902e-05 9.66977954e-01\n",
            " 9.99999583e-01 3.23624789e-07 9.99946356e-01 9.99999940e-01\n",
            " 1.02787062e-05 9.57719326e-01 9.99999940e-01 9.99828815e-01\n",
            " 9.56691743e-04 9.99999881e-01 8.62336695e-01 1.15929950e-04\n",
            " 9.99993145e-01 7.76138904e-07 9.99999702e-01 9.99954283e-01\n",
            " 6.59127763e-05 1.37880983e-04 9.99999642e-01 9.99987721e-01\n",
            " 9.98018444e-01 9.99999881e-01 6.46170956e-05 9.99999225e-01\n",
            " 3.79976955e-05 1.70657572e-07 1.13994076e-06 5.24299639e-06\n",
            " 9.99992669e-01 9.99614179e-01 9.99998391e-01 9.99999881e-01\n",
            " 7.18687661e-05 9.99999642e-01 8.15650338e-08 9.95631576e-01\n",
            " 9.99999940e-01 5.04636603e-07 8.61348965e-08 7.77748255e-07\n",
            " 9.99993324e-01 6.26409610e-06 7.46840656e-01 9.99999762e-01\n",
            " 9.99995649e-01 9.99999940e-01 9.99998868e-01 9.99999881e-01\n",
            " 9.99999821e-01 9.99999762e-01 9.97484148e-01 6.35488462e-08\n",
            " 1.00000000e+00 9.99997497e-01 9.99999762e-01 1.00000000e+00\n",
            " 5.00993224e-07 9.99999583e-01 2.86175982e-05 9.99999881e-01\n",
            " 9.99998391e-01 9.99996841e-01 5.57698768e-05 2.16009468e-07\n",
            " 9.99999404e-01 9.84840930e-01 1.00000000e+00 9.99999940e-01\n",
            " 1.00033856e-06 9.85624671e-01 1.05846208e-04 9.99960780e-01\n",
            " 9.99925792e-01 9.99805152e-01 8.97665304e-05 2.57308222e-03\n",
            " 1.76687558e-06 9.99999464e-01 1.60581077e-08 1.65083293e-06\n",
            " 4.88208025e-05 3.50239570e-05 9.99999881e-01 9.99999940e-01\n",
            " 1.00000000e+00 1.22091415e-05 9.99999762e-01 5.69598740e-07\n",
            " 9.99992192e-01 9.99997914e-01 9.99791145e-01 4.06209110e-05\n",
            " 4.18719901e-05 9.99998689e-01 5.13049088e-07 9.99953747e-01\n",
            " 7.42951259e-02 1.00000000e+00 4.45280762e-07 3.38393264e-03\n",
            " 9.99999821e-01 9.99615729e-01 9.99995768e-01 9.76454377e-01\n",
            " 9.64403450e-01 9.99957204e-01 9.99995351e-01 9.99997616e-01\n",
            " 3.04188370e-06 9.99997556e-01 9.99999881e-01 4.51416554e-06\n",
            " 1.00000000e+00 1.00000000e+00 3.62964311e-05 1.00000000e+00\n",
            " 1.23032196e-05 8.31538910e-06 2.23601353e-04 9.99998152e-01\n",
            " 9.96459723e-01 3.62299170e-06 9.99991059e-01 1.00000000e+00\n",
            " 6.29169890e-08 1.39047779e-06 1.00000000e+00 2.53186272e-06\n",
            " 9.99825001e-01 1.41011617e-06 1.00000000e+00 1.00000000e+00\n",
            " 9.99969602e-01 6.75530174e-08 9.99982953e-01 9.99997258e-01\n",
            " 9.99685168e-01 9.99999821e-01 4.64639015e-07 9.99998331e-01\n",
            " 9.99993563e-01 9.99999464e-01 9.99999583e-01 2.04444831e-07\n",
            " 9.99997497e-01 9.92866695e-01 9.99999940e-01 9.99999821e-01\n",
            " 9.99596894e-01 9.99999940e-01 9.99999523e-01 9.99990165e-01\n",
            " 1.00000000e+00 7.25663369e-07 2.72721149e-06 1.18060409e-04\n",
            " 8.88915777e-01 9.99958396e-01 4.14875540e-04 9.99891579e-01\n",
            " 4.14377355e-05 2.51319907e-05 5.75882950e-06 9.99999285e-01\n",
            " 9.99971747e-01 4.29117863e-05 9.99998450e-01 5.20875517e-07\n",
            " 9.99999344e-01 9.99998212e-01 1.76106909e-07 2.50770938e-07\n",
            " 9.99754548e-01 9.99994099e-01 5.15840475e-06 1.56754777e-05\n",
            " 7.86184391e-05 1.32764251e-06 1.00000000e+00 9.85788107e-01\n",
            " 1.51951563e-05 5.63642607e-05 9.99997914e-01 9.96740997e-01\n",
            " 1.84552448e-07 7.90820593e-07 9.99999881e-01 9.99999940e-01\n",
            " 1.16791834e-05 5.59447108e-06 9.99999821e-01 9.99999464e-01\n",
            " 3.20225023e-04 6.56404154e-05 5.18137276e-05 5.86341182e-03\n",
            " 9.99999881e-01 9.99932826e-01 9.99998868e-01 1.36248593e-04\n",
            " 3.35602613e-06 7.47098893e-05 9.99998271e-01 9.98807371e-01\n",
            " 9.99988794e-01 9.99998152e-01 9.99999821e-01 1.19590266e-06\n",
            " 9.99999464e-01 5.25037422e-07 8.88915777e-01 9.99999762e-01\n",
            " 5.44553441e-05 3.46253663e-02 3.98740383e-08 4.58206683e-02\n",
            " 1.00000000e+00 1.00000000e+00 9.99993443e-01 9.47310673e-06\n",
            " 3.66125369e-06 3.68062081e-03 9.99999762e-01 9.99997437e-01\n",
            " 1.84770484e-04 9.99867678e-01 2.31651188e-06 9.99999583e-01\n",
            " 6.81189704e-05 9.22651816e-05 9.99999344e-01 2.95597729e-05\n",
            " 9.99755502e-01 9.96776521e-01 2.16657019e-04 2.58271257e-06\n",
            " 8.30385034e-06 9.28669095e-01 1.73410356e-07 9.99995530e-01\n",
            " 4.40462463e-04 9.99999940e-01 1.59838450e-07 9.46298361e-01\n",
            " 1.13944378e-04 9.99995649e-01 9.99999106e-01 1.00000000e+00\n",
            " 3.30672553e-03 9.99999881e-01 7.73148622e-06 1.67500274e-03\n",
            " 9.29380178e-01 1.00000000e+00 2.39118071e-05 9.99997556e-01\n",
            " 4.02447116e-03 1.95746747e-04 9.99999702e-01 1.22564697e-05\n",
            " 4.22168450e-05 9.99999225e-01 9.94065881e-01 9.99990880e-01\n",
            " 1.00000000e+00 9.03397391e-04 9.00321595e-08 1.64468278e-04\n",
            " 2.57760985e-05 9.99994755e-01 5.34142509e-06 5.99157602e-07\n",
            " 9.99999881e-01 9.99999940e-01 1.00000000e+00 9.99998450e-01\n",
            " 9.99997377e-01 1.67522903e-05 5.09512138e-05 9.37328041e-01\n",
            " 2.12384730e-05 9.99999881e-01 1.24710450e-05 9.99946356e-01\n",
            " 8.33590746e-01 3.49573344e-02 1.60892378e-03 1.51427565e-04\n",
            " 4.28877456e-07 1.00000000e+00 9.99480546e-01 9.99880195e-01\n",
            " 3.23772826e-03 3.35487798e-02 2.49599248e-06 3.44320506e-05\n",
            " 5.14253916e-04 9.68843162e-01 4.48484170e-05 1.04981038e-04\n",
            " 9.99999940e-01 2.01586218e-07 4.46609556e-06 9.99999166e-01\n",
            " 1.35139624e-06 9.99983430e-01 9.99999583e-01 9.99127924e-01\n",
            " 2.05649342e-03 9.99974489e-01 1.51951417e-05 1.63841542e-04\n",
            " 9.99528587e-01 5.90578094e-03 9.99992490e-01 9.99037564e-01\n",
            " 3.93577329e-06 9.99996305e-01 4.40575750e-05 5.00385852e-07\n",
            " 6.74147742e-08 1.69515772e-06 7.82518725e-07 2.29706916e-06\n",
            " 9.99998093e-01 9.99999523e-01 9.99999821e-01 4.99853468e-06\n",
            " 4.58078908e-08 9.99924004e-01 9.95684862e-01 9.99995410e-01\n",
            " 9.99759912e-01 5.18667766e-05 3.07326559e-07 9.28017755e-07\n",
            " 2.82705878e-06 1.11515158e-06 1.10420501e-06 1.00000000e+00\n",
            " 1.54514976e-06 9.99999940e-01 9.99998450e-01 4.69137512e-06\n",
            " 6.62067077e-06 9.99999940e-01 9.99999940e-01 9.96573865e-01\n",
            " 9.99927700e-01 2.59872286e-05 8.91209879e-07 9.99996006e-01\n",
            " 9.99999642e-01 3.85950625e-01 9.99620795e-01 1.00000000e+00\n",
            " 1.00000000e+00 9.05747754e-07 4.20543744e-04 1.00000000e+00\n",
            " 1.00000000e+00 6.33878284e-04 2.10133794e-06 9.99999464e-01\n",
            " 3.47746491e-01 9.99999762e-01 1.81541618e-05 5.27426937e-06\n",
            " 2.31433910e-06 9.99999404e-01 2.11083830e-06 9.99996603e-01\n",
            " 1.64516910e-04 3.08566456e-07 2.78037071e-04 9.99997318e-01\n",
            " 6.72914684e-01 2.41074804e-03 9.84834969e-01 9.99999702e-01\n",
            " 1.00000000e+00 4.21013392e-05 1.85371573e-05 9.99999881e-01\n",
            " 4.59280331e-04 1.00000000e+00 1.93575561e-05 2.85530376e-07\n",
            " 2.86652835e-07 8.12721282e-06 9.99999821e-01 2.51785270e-04\n",
            " 9.99994874e-01 3.81182492e-01 2.06815253e-06 2.18183359e-07\n",
            " 9.99999881e-01 1.60004532e-07 1.95829689e-05 9.98727381e-01\n",
            " 1.40378165e-06 9.99742150e-01 9.57357755e-04 7.68231694e-05\n",
            " 1.06441857e-05 4.33613641e-05 1.06194391e-04 5.58139049e-02\n",
            " 3.47944251e-06 9.99999702e-01 3.65293573e-07 9.99999821e-01\n",
            " 9.99903619e-01 9.99992609e-01 9.99999464e-01 4.51683127e-06\n",
            " 9.99997854e-01 9.99999285e-01 4.02095648e-05 9.38915741e-03\n",
            " 1.17617230e-04 9.99999940e-01 9.99990880e-01 2.46177169e-05\n",
            " 1.51222499e-04 2.52153495e-06 3.59997421e-06 2.35730222e-05\n",
            " 7.55418296e-05 9.99993205e-01 9.22414256e-05 9.99999523e-01\n",
            " 4.42795135e-05 1.26650903e-05 9.40247082e-06 9.99999821e-01\n",
            " 9.99991715e-01 9.99999821e-01 5.02420729e-03 9.99999940e-01\n",
            " 9.99882877e-01 9.99801755e-01 9.99999940e-01 8.68618395e-03\n",
            " 9.99999940e-01 9.99839842e-01 1.50557435e-05 5.67765746e-05\n",
            " 9.99999821e-01 9.99999881e-01 1.69214763e-04 9.99999940e-01\n",
            " 9.99999225e-01 7.14781527e-06 9.99998868e-01 1.19888363e-03\n",
            " 9.19336438e-01 1.82833761e-01 1.60790319e-06 4.67722275e-04\n",
            " 5.73433237e-04 1.72665212e-04 9.99999642e-01 9.99948978e-01\n",
            " 9.99999166e-01 9.99998033e-01 9.99999404e-01 9.07177673e-06\n",
            " 3.21699918e-04 5.17643139e-06 9.99999642e-01 9.99993563e-01\n",
            " 9.99999821e-01 9.99939382e-01 9.99999881e-01 6.23674850e-06\n",
            " 9.99999881e-01 9.99999762e-01 7.35490221e-06 9.99998689e-01\n",
            " 2.24624440e-04 9.99998629e-01 1.32192406e-04 3.68430774e-05\n",
            " 1.00000000e+00 5.26282884e-06 9.99999821e-01 9.99999881e-01\n",
            " 3.46690140e-05 9.99999046e-01 1.08542633e-06 9.99997556e-01\n",
            " 7.65916484e-05 3.37894853e-05 9.85529780e-01 9.99999702e-01\n",
            " 9.99999225e-01 9.99996901e-01 5.49913857e-08 3.41328314e-06\n",
            " 9.99999881e-01 9.99881029e-01 9.99858320e-01 8.53214772e-07\n",
            " 1.30284661e-06 1.62028982e-06 2.69013107e-01 9.99987960e-01\n",
            " 8.35210979e-01 1.86473400e-07 2.81016719e-06 9.99998093e-01\n",
            " 9.99996841e-01 1.59348419e-05 1.75367779e-04 3.37191072e-04\n",
            " 1.95672014e-03 9.99970973e-01 2.17169898e-07 5.67927025e-04\n",
            " 1.04300716e-05 8.98270901e-06 1.01260121e-05 2.70034502e-06\n",
            " 9.99988019e-01 9.99996662e-01 9.85292500e-05 1.00000000e+00\n",
            " 1.41334240e-04 9.99999702e-01 9.88988757e-01 1.18378625e-06\n",
            " 1.26396790e-05 9.99905229e-01 2.06182503e-05 1.95414032e-05\n",
            " 9.99984860e-01 2.58549244e-06 9.99999702e-01 8.95878533e-04\n",
            " 9.99998093e-01 9.99989927e-01 6.39364043e-06 2.10133794e-06\n",
            " 9.86417406e-04 2.81335000e-04 9.99999762e-01 8.93164368e-04\n",
            " 1.15711246e-05 9.99938190e-01 9.99999821e-01 1.06038147e-04\n",
            " 1.83159143e-01 3.02044668e-07 1.00000000e+00 1.61098636e-04\n",
            " 9.99999225e-01 9.93561983e-01 8.33903778e-06 8.87893548e-05\n",
            " 9.99999642e-01 9.99999881e-01 2.64081882e-05 1.99403985e-07\n",
            " 2.83260738e-06 1.68973003e-07 9.99999702e-01 1.00000000e+00\n",
            " 9.99956429e-01 1.91251049e-04 1.82828114e-06 2.52680434e-06\n",
            " 9.99999046e-01 5.55903837e-03 1.40602233e-05 9.99820948e-01\n",
            " 1.74383879e-01 1.53758083e-06 8.51569772e-01 9.99351919e-01\n",
            " 9.99998808e-01 1.03192197e-05 2.70290866e-06 9.99971032e-01\n",
            " 9.99999523e-01 9.99998093e-01 9.99728739e-01 9.99968112e-01\n",
            " 9.99630094e-01 2.41195536e-04 9.99995768e-01 1.00000000e+00\n",
            " 1.35139624e-06 4.82243150e-02 2.15332943e-08 2.10067554e-07\n",
            " 9.99470770e-01 9.99999821e-01 9.99991715e-01 9.98998940e-01\n",
            " 1.09662494e-06 9.99999285e-01 1.00000000e+00 1.61831358e-05\n",
            " 9.99899209e-01 9.99999344e-01 3.25203364e-05 9.85201723e-07\n",
            " 7.42585087e-07 2.01737134e-06 1.04471728e-05 3.58123984e-03\n",
            " 1.90990965e-03 8.04828574e-07 9.57956076e-01 9.99980211e-01\n",
            " 6.51768551e-06 4.21013392e-05 1.56119540e-01 1.06499838e-05\n",
            " 2.06636731e-04 9.99999881e-01 1.00000000e+00 9.49460864e-01\n",
            " 9.99999821e-01 9.99999940e-01 9.99999702e-01 1.00000000e+00\n",
            " 2.41550515e-05 9.99671519e-01 9.99998510e-01 9.99872625e-01\n",
            " 2.47999509e-07 9.99993503e-01 9.99984324e-01 9.99896228e-01\n",
            " 9.99989688e-01 9.99999881e-01 9.99999940e-01 9.84834969e-01\n",
            " 9.99980986e-01 5.27184852e-07 1.51003333e-05 9.99976218e-01\n",
            " 1.00000000e+00 1.00000000e+00 9.23628271e-01 5.08499543e-05\n",
            " 1.08473447e-04 4.78189707e-01 9.99998569e-01 2.33980677e-06\n",
            " 6.53086317e-05 6.74656403e-05 1.00000000e+00 5.18916408e-03\n",
            " 9.99999881e-01 1.88188953e-03 3.05807681e-08 9.99999762e-01\n",
            " 7.59576778e-07 1.00000000e+00 4.75967228e-02 1.42043064e-06\n",
            " 9.99999881e-01 3.61672755e-05 2.32258157e-04 1.70199259e-04\n",
            " 7.20699092e-08 9.99999344e-01 9.99999881e-01 9.37546324e-03]\n"
          ]
        }
      ]
    },
    {
      "cell_type": "code",
      "source": [
        "import numpy as np\n",
        "\n",
        "y_predicted = np.where(y_predicted > 0.5, 1, 0)\n",
        "print(y_predicted)"
      ],
      "metadata": {
        "colab": {
          "base_uri": "https://localhost:8080/"
        },
        "id": "hh4Rrk6eg5Ii",
        "outputId": "80a0dec5-63c9-4f18-e05b-570b8f18a8e7"
      },
      "execution_count": null,
      "outputs": [
        {
          "output_type": "stream",
          "name": "stdout",
          "text": [
            "[1 0 0 1 1 1 0 1 0 0 0 1 1 1 0 0 1 0 0 0 0 0 0 1 0 0 1 0 1 0 1 0 1 0 0 0 0\n",
            " 0 1 1 0 1 0 1 1 1 1 1 1 1 0 1 0 0 0 1 0 0 0 0 0 0 1 0 0 0 1 1 1 1 1 0 1 1\n",
            " 0 1 0 0 1 1 1 0 0 1 0 1 1 0 1 0 1 1 0 0 1 1 1 1 0 1 0 1 1 0 0 0 1 1 0 1 1\n",
            " 0 1 0 1 1 0 0 0 1 1 0 1 0 0 1 1 1 0 0 1 1 0 1 0 0 1 0 1 1 1 0 1 1 1 0 1 0\n",
            " 0 0 0 1 0 0 0 0 1 0 1 1 0 0 1 1 1 0 0 1 0 1 0 0 0 1 0 1 1 1 0 0 0 1 0 0 1\n",
            " 1 1 1 0 0 1 0 1 1 0 1 0 1 0 0 0 0 1 0 0 0 0 0 1 0 1 0 1 0 0 1 1 1 1 1 0 0\n",
            " 1 0 1 1 0 0 1 0 1 1 1 0 0 0 0 1 0 1 0 1 0 1 1 0 1 0 1 1 0 0 0 1 1 1 1 0 1\n",
            " 1 1 1 0 1 0 1 1 1 1 1 0 0 1 0 0 0 0 1 1 0 1 0 0 0 0 0 0 1 1 0 0 0 0 1 1 0\n",
            " 1 0 0 0 0 1 0 0 0 1 1 1 1 1 0 0 0 1 1 0 1 0 1 0 1 0 1 0 0 1 0 1 1 0 1 1 0\n",
            " 1 1 1 0 1 1 0 1 0 1 1 0 0 1 1 1 1 0 1 0 0 0 0 1 1 1 1 0 1 0 1 1 0 0 0 1 0\n",
            " 1 1 1 1 1 1 1 1 1 0 1 1 1 1 0 1 0 1 1 1 0 0 1 1 1 1 0 1 0 1 1 1 0 0 0 1 0\n",
            " 0 0 0 1 1 1 0 1 0 1 1 1 0 0 1 0 1 0 1 0 0 1 1 1 1 1 1 1 1 0 1 1 0 1 1 0 1\n",
            " 0 0 0 1 1 0 1 1 0 0 1 0 1 0 1 1 1 0 1 1 1 1 0 1 1 1 1 0 1 1 1 1 1 1 1 1 1\n",
            " 0 0 0 1 1 0 1 0 0 0 1 1 0 1 0 1 1 0 0 1 1 0 0 0 0 1 1 0 0 1 1 0 0 1 1 0 0\n",
            " 1 1 0 0 0 0 1 1 1 0 0 0 1 1 1 1 1 0 1 0 1 1 0 0 0 0 1 1 1 0 0 0 1 1 0 1 0\n",
            " 1 0 0 1 0 1 1 0 0 0 1 0 1 0 1 0 1 0 1 1 1 0 1 0 0 1 1 0 1 0 0 1 0 0 1 1 1\n",
            " 1 0 0 0 0 1 0 0 1 1 1 1 1 0 0 1 0 1 0 1 1 0 0 0 0 1 1 1 0 0 0 0 0 1 0 0 1\n",
            " 0 0 1 0 1 1 1 0 1 0 0 1 0 1 1 0 1 0 0 0 0 0 0 1 1 1 0 0 1 1 1 1 0 0 0 0 0\n",
            " 0 1 0 1 1 0 0 1 1 1 1 0 0 1 1 0 1 1 1 0 0 1 1 0 0 1 0 1 0 0 0 1 0 1 0 0 0\n",
            " 1 1 0 1 1 1 0 0 1 0 1 0 0 0 0 1 0 1 0 0 0 1 0 0 1 0 1 0 0 0 0 0 0 0 1 0 1\n",
            " 1 1 1 0 1 1 0 0 0 1 1 0 0 0 0 0 0 1 0 1 0 0 0 1 1 1 0 1 1 1 1 0 1 1 0 0 1\n",
            " 1 0 1 1 0 1 0 1 0 0 0 0 0 1 1 1 1 1 0 0 0 1 1 1 1 1 0 1 1 0 1 0 1 0 0 1 0\n",
            " 1 1 0 1 0 1 0 0 1 1 1 1 0 0 1 1 1 0 0 0 0 1 1 0 0 1 1 0 0 0 0 1 0 0 0 0 0\n",
            " 0 1 1 0 1 0 1 1 0 0 1 0 0 1 0 1 0 1 1 0 0 0 0 1 0 0 1 1 0 0 0 1 0 1 1 0 0\n",
            " 1 1 0 0 0 0 1 1 1 0 0 0 1 0 0 1 0 0 1 1 1 0 0 1 1 1 1 1 1 0 1 1 0 0 0 0 1\n",
            " 1 1 1 0 1 1 0 1 1 0 0 0 0 0 0 0 0 1 1 0 0 0 0 0 1 1 1 1 1 1 1 0 1 1 1 0 1\n",
            " 1 1 1 1 1 1 1 0 0 1 1 1 1 0 0 0 1 0 0 0 1 0 1 0 0 1 0 1 0 0 1 0 0 0 0 1 1\n",
            " 0]\n"
          ]
        }
      ]
    },
    {
      "cell_type": "code",
      "source": [
        "from sklearn.metrics import confusion_matrix, classification_report\n",
        "\n",
        "cm = confusion_matrix(y_test, y_predicted)\n",
        "print(cm)"
      ],
      "metadata": {
        "colab": {
          "base_uri": "https://localhost:8080/"
        },
        "id": "gNkyZFhIg7C0",
        "outputId": "e569eef3-0b94-4139-bcad-64f394c83db2"
      },
      "execution_count": null,
      "outputs": [
        {
          "output_type": "stream",
          "name": "stdout",
          "text": [
            "[[476  24]\n",
            " [ 19 481]]\n"
          ]
        }
      ]
    },
    {
      "cell_type": "code",
      "source": [
        "from matplotlib import pyplot as plt\n",
        "import seaborn as sn\n",
        "\n",
        "sn.heatmap(cm, annot=True, fmt='d')\n",
        "plt.xlabel('predicted')\n",
        "plt.ylabel('truth')"
      ],
      "metadata": {
        "colab": {
          "base_uri": "https://localhost:8080/",
          "height": 466
        },
        "id": "qRNwIQIUg8w1",
        "outputId": "55354e80-97e6-4ff6-b102-a15e7bf13e4a"
      },
      "execution_count": null,
      "outputs": [
        {
          "output_type": "execute_result",
          "data": {
            "text/plain": [
              "Text(50.722222222222214, 0.5, 'truth')"
            ]
          },
          "metadata": {},
          "execution_count": 12
        },
        {
          "output_type": "display_data",
          "data": {
            "text/plain": [
              "<Figure size 640x480 with 2 Axes>"
            ],
            "image/png": "[encoded data removed]"
          },
          "metadata": {}
        }
      ]
    },
    {
      "cell_type": "code",
      "source": [
        "print(classification_report(y_test, y_predicted))"
      ],
      "metadata": {
        "colab": {
          "base_uri": "https://localhost:8080/"
        },
        "id": "LMZ4f1uNg-tM",
        "outputId": "c013e32f-b08b-4926-f107-5278defc5010"
      },
      "execution_count": null,
      "outputs": [
        {
          "output_type": "stream",
          "name": "stdout",
          "text": [
            "              precision    recall  f1-score   support\n",
            "\n",
            "           0       0.96      0.95      0.96       500\n",
            "           1       0.95      0.96      0.96       500\n",
            "\n",
            "    accuracy                           0.96      1000\n",
            "   macro avg       0.96      0.96      0.96      1000\n",
            "weighted avg       0.96      0.96      0.96      1000\n",
            "\n"
          ]
        }
      ]
    }
  ]
}