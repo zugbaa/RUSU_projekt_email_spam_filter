{
  "cells": [
    {
      "cell_type": "markdown",
      "metadata": {
        "id": "view-in-github",
        "colab_type": "text"
      },
      "source": [
        "<a href=\"https://colab.research.google.com/github/zugbaa/RUSU_projekt_email_spam_filter/blob/main/Email_spam_filter_BERT.ipynb\" target=\"_parent\"><img src=\"https://colab.research.google.com/assets/colab-badge.svg\" alt=\"Open In Colab\"/></a>"
      ]
    },
    {
      "cell_type": "code",
      "execution_count": 25,
      "metadata": {
        "id": "nmrJou7Hkw3w"
      },
      "outputs": [],
      "source": [
        "#!pip install -U tensorflow\n",
        "#!pip install -U tensorflow-text\n",
        "import pandas as pd\n",
        "import tensorflow \n",
        "import tensorflow_hub as hub\n",
        "import tensorflow_text as text\n",
        "from keras.callbacks import EarlyStopping"
      ]
    },
    {
      "cell_type": "code",
      "execution_count": 26,
      "metadata": {
        "colab": {
          "base_uri": "https://localhost:8080/"
        },
        "id": "UNlLh4XcxHqQ",
        "outputId": "62561fa6-20a9-4c36-a7dc-50efe2ca1db2"
      },
      "outputs": [
        {
          "output_type": "stream",
          "name": "stdout",
          "text": [
            "Drive already mounted at /content/drive; to attempt to forcibly remount, call drive.mount(\"/content/drive\", force_remount=True).\n"
          ]
        }
      ],
      "source": [
        "from google.colab import drive\n",
        "drive.mount('/content/drive')"
      ]
    },
    {
      "cell_type": "code",
      "execution_count": 27,
      "metadata": {
        "colab": {
          "base_uri": "https://localhost:8080/"
        },
        "id": "89gAB7KXuEQF",
        "outputId": "339f4633-8525-4742-aea0-3d160a4b90b6"
      },
      "outputs": [
        {
          "output_type": "stream",
          "name": "stdout",
          "text": [
            "                                                   Body  Label\n",
            "0     Subject: stock promo mover : cwtd\\n * * * urge...      1\n",
            "1     Subject: are you listed in major search engine...      1\n",
            "2     Subject: important information thu , 30 jun 20...      1\n",
            "3     Subject: = ? utf - 8 ? q ? bask your life with...      1\n",
            "4     Subject: \" bidstogo \" is places to go , things...      1\n",
            "...                                                 ...    ...\n",
            "3995  Subject: revison # 1 - hpl noms . for november...      0\n",
            "3996  Subject: hpl nom for december 27 , 2000\\n ( se...      0\n",
            "3997  Subject: akamai\\n kevin ,\\n i have followed up...      0\n",
            "3998  Subject: re : summary spreadsheet for data ven...      0\n",
            "3999  Subject: re : congratulations\\n congratulation...      0\n",
            "\n",
            "[4000 rows x 2 columns]\n"
          ]
        }
      ],
      "source": [
        "# Load the dataset\n",
        "df = pd.read_csv(\"/content/drive/My Drive/spam.csv\")\n",
        "\n",
        "df = df[['Body', 'Label']]\n",
        "\n",
        "print(df)"
      ]
    },
    {
      "cell_type": "code",
      "execution_count": 28,
      "metadata": {
        "id": "c9yeTeSi30pq"
      },
      "outputs": [],
      "source": [
        "from sklearn.model_selection import train_test_split\n",
        "\n",
        "X_train, X_test, y_train, y_test = train_test_split(df['Body'], df['Label'], stratify=df['Label'])"
      ]
    },
    {
      "cell_type": "code",
      "execution_count": 29,
      "metadata": {
        "id": "9x2Y8U3u5JWE"
      },
      "outputs": [],
      "source": [
        "bert_preprocess = hub.KerasLayer('https://tfhub.dev/tensorflow/bert_en_uncased_preprocess/3')\n",
        "bert_encoder = hub.KerasLayer('https://tfhub.dev/tensorflow/bert_en_uncased_L-12_H-768_A-12/4')"
      ]
    },
    {
      "cell_type": "code",
      "execution_count": 30,
      "metadata": {
        "id": "zuYnKke0771J"
      },
      "outputs": [],
      "source": [
        "\n",
        "#Bert layers\n",
        "text_input = tensorflow.keras.layers.Input(shape=(), dtype=tensorflow.string, name=\"text\")\n",
        "preprocessed_text = bert_preprocess(text_input)\n",
        "outputs = bert_encoder(preprocessed_text)\n",
        "\n",
        "#Neural network layers\n",
        "l = tensorflow.keras.layers.Dropout(0.15, name='dropout')(outputs['pooled_output'])\n",
        "l = tensorflow.keras.layers.Dense(1, activation='sigmoid', name='output')(l)\n",
        "\n",
        "#Final model\n",
        "model = tensorflow.keras.Model(inputs=[text_input], outputs=[l])\n",
        "\n",
        "early_stopping = EarlyStopping(patience=3, restore_best_weights=True)"
      ]
    },
    {
      "cell_type": "code",
      "execution_count": 31,
      "metadata": {
        "colab": {
          "base_uri": "https://localhost:8080/"
        },
        "id": "L37o5h-G-Tm0",
        "outputId": "4bc78582-b11e-4b90-802e-2ffa43580d54"
      },
      "outputs": [
        {
          "output_type": "stream",
          "name": "stdout",
          "text": [
            "Model: \"model_2\"\n",
            "__________________________________________________________________________________________________\n",
            " Layer (type)                   Output Shape         Param #     Connected to                     \n",
            "==================================================================================================\n",
            " text (InputLayer)              [(None,)]            0           []                               \n",
            "                                                                                                  \n",
            " keras_layer_4 (KerasLayer)     {'input_word_ids':   0           ['text[0][0]']                   \n",
            "                                (None, 128),                                                      \n",
            "                                 'input_mask': (Non                                               \n",
            "                                e, 128),                                                          \n",
            "                                 'input_type_ids':                                                \n",
            "                                (None, 128)}                                                      \n",
            "                                                                                                  \n",
            " keras_layer_5 (KerasLayer)     {'default': (None,   109482241   ['keras_layer_4[0][0]',          \n",
            "                                768),                             'keras_layer_4[0][1]',          \n",
            "                                 'encoder_outputs':               'keras_layer_4[0][2]']          \n",
            "                                 [(None, 128, 768),                                               \n",
            "                                 (None, 128, 768),                                                \n",
            "                                 (None, 128, 768),                                                \n",
            "                                 (None, 128, 768),                                                \n",
            "                                 (None, 128, 768),                                                \n",
            "                                 (None, 128, 768),                                                \n",
            "                                 (None, 128, 768),                                                \n",
            "                                 (None, 128, 768),                                                \n",
            "                                 (None, 128, 768),                                                \n",
            "                                 (None, 128, 768),                                                \n",
            "                                 (None, 128, 768),                                                \n",
            "                                 (None, 128, 768)],                                               \n",
            "                                 'pooled_output': (                                               \n",
            "                                None, 768),                                                       \n",
            "                                 'sequence_output':                                               \n",
            "                                 (None, 128, 768)}                                                \n",
            "                                                                                                  \n",
            " dropout (Dropout)              (None, 768)          0           ['keras_layer_5[0][13]']         \n",
            "                                                                                                  \n",
            " output (Dense)                 (None, 1)            769         ['dropout[0][0]']                \n",
            "                                                                                                  \n",
            "==================================================================================================\n",
            "Total params: 109,483,010\n",
            "Trainable params: 769\n",
            "Non-trainable params: 109,482,241\n",
            "__________________________________________________________________________________________________\n"
          ]
        }
      ],
      "source": [
        "model.summary()"
      ]
    },
    {
      "cell_type": "code",
      "execution_count": 32,
      "metadata": {
        "id": "afDWFDRl-77K"
      },
      "outputs": [],
      "source": [
        "\n",
        "model.compile(optimizer='adam',\n",
        "              loss='binary_crossentropy',\n",
        "              metrics=['accuracy']\n",
        "              )"
      ]
    },
    {
      "cell_type": "code",
      "execution_count": null,
      "metadata": {
        "id": "1_xYJt9H_qhn"
      },
      "outputs": [],
      "source": [
        "model.fit(X_train, y_train, epochs=50, validation_data=(X_test, y_test), callbacks=[early_stopping])"
      ]
    },
    {
      "cell_type": "code",
      "execution_count": 34,
      "metadata": {
        "id": "pag3W86z3Hek",
        "colab": {
          "base_uri": "https://localhost:8080/"
        },
        "outputId": "16b89e03-e245-428f-937f-9da2566c3984"
      },
      "outputs": [
        {
          "output_type": "stream",
          "name": "stdout",
          "text": [
            "32/32 [==============================] - 3s 83ms/step - loss: 0.2849 - accuracy: 0.9080\n"
          ]
        },
        {
          "output_type": "execute_result",
          "data": {
            "text/plain": [
              "[0.2849156856536865, 0.9079999923706055]"
            ]
          },
          "metadata": {},
          "execution_count": 34
        }
      ],
      "source": [
        "model.evaluate(X_test, y_test)"
      ]
    },
    {
      "cell_type": "code",
      "execution_count": 35,
      "metadata": {
        "id": "Zbq3xjLh3eOS",
        "colab": {
          "base_uri": "https://localhost:8080/"
        },
        "outputId": "b0fa6bc9-eef2-4438-8be6-fd3653868aa6"
      },
      "outputs": [
        {
          "output_type": "stream",
          "name": "stdout",
          "text": [
            "32/32 [==============================] - 3s 78ms/step\n"
          ]
        }
      ],
      "source": [
        "y_predicted = model.predict(X_test)\n",
        "y_predicted = y_predicted.flatten()"
      ]
    },
    {
      "cell_type": "code",
      "execution_count": 36,
      "metadata": {
        "id": "tRhrgs2j3xeQ",
        "colab": {
          "base_uri": "https://localhost:8080/"
        },
        "outputId": "bb85692d-2285-46fe-b369-92af96e20a25"
      },
      "outputs": [
        {
          "output_type": "stream",
          "name": "stdout",
          "text": [
            "[0 1 0 1 0 0 1 0 1 1 1 1 1 0 0 0 0 1 0 0 0 0 0 0 0 0 0 0 1 0 0 0 1 1 0 0 0\n",
            " 1 0 1 1 0 0 0 1 0 1 1 1 0 0 0 0 1 0 1 0 0 1 0 1 0 1 1 0 1 0 0 0 1 1 1 0 1\n",
            " 1 1 1 1 0 0 0 1 1 1 0 0 0 1 1 0 1 0 0 0 1 1 1 0 0 1 1 1 0 0 1 0 0 0 1 1 1\n",
            " 1 1 0 1 1 1 1 1 1 1 0 1 1 1 0 1 0 1 0 0 0 1 1 1 0 0 1 1 1 0 0 0 1 0 1 0 0\n",
            " 1 0 0 0 1 0 1 1 0 1 0 1 0 0 0 1 0 1 1 0 1 0 1 0 1 1 1 0 0 1 1 0 1 1 1 0 1\n",
            " 1 1 1 1 1 1 0 1 0 1 0 1 0 1 1 1 1 1 1 0 0 1 1 1 0 1 1 1 1 0 0 1 0 1 1 0 0\n",
            " 1 0 1 1 0 1 1 1 0 1 1 0 1 1 1 1 0 0 1 1 1 1 0 0 1 0 1 1 1 0 0 1 0 1 0 0 1\n",
            " 1 1 0 0 1 0 0 0 1 1 1 0 0 1 0 0 0 1 1 0 1 0 1 1 1 0 0 1 1 1 0 1 1 1 1 1 1\n",
            " 1 0 1 1 0 1 0 0 0 1 0 0 0 1 0 1 1 0 1 1 1 0 1 0 1 0 1 0 1 1 0 0 1 0 0 1 1\n",
            " 1 1 1 0 1 1 0 0 0 0 1 0 1 0 0 1 1 0 0 1 0 0 0 0 0 1 0 1 1 1 1 0 1 0 0 1 1\n",
            " 1 0 1 1 1 0 1 0 1 0 1 0 0 1 1 1 1 1 0 0 1 0 0 1 1 1 0 0 1 1 0 1 1 1 1 1 0\n",
            " 1 1 0 0 1 0 1 0 1 1 0 1 1 1 0 1 0 1 0 0 1 0 0 0 1 1 1 1 1 0 0 1 1 1 0 1 1\n",
            " 1 1 0 1 1 1 0 1 1 1 1 0 1 1 0 1 0 1 1 0 1 0 0 1 1 1 1 0 0 0 0 0 1 0 0 0 0\n",
            " 1 0 0 1 1 1 1 0 1 0 0 0 0 0 1 1 0 0 0 1 0 0 0 1 0 0 1 1 1 0 1 1 1 1 0 0 1\n",
            " 1 0 0 1 1 1 0 1 1 1 0 1 1 1 0 1 1 1 1 0 0 1 0 1 1 0 0 1 0 1 1 1 1 1 1 0 0\n",
            " 0 1 0 0 1 1 1 1 0 1 1 1 1 1 1 1 0 1 1 1 0 1 0 0 1 0 0 1 1 1 1 1 1 1 1 0 1\n",
            " 1 0 1 1 0 0 1 0 0 1 0 0 1 1 1 0 1 0 0 0 1 0 1 0 1 1 1 1 1 0 0 1 1 1 1 1 1\n",
            " 0 1 0 1 0 1 1 0 1 1 1 1 0 1 0 1 1 1 0 0 1 1 1 0 0 1 1 1 0 0 0 1 0 1 1 1 1\n",
            " 0 1 0 0 0 1 1 0 0 0 1 1 0 1 0 1 1 1 1 0 1 0 0 1 0 1 1 1 1 0 1 1 1 0 1 0 1\n",
            " 1 0 1 1 0 1 1 0 1 0 1 1 0 1 0 0 1 1 0 0 1 1 0 1 0 1 1 1 1 0 0 0 1 0 1 1 1\n",
            " 1 0 1 1 1 0 1 0 0 1 1 1 0 0 1 1 0 1 1 1 1 0 1 1 1 0 0 1 1 1 1 1 1 0 0 1 1\n",
            " 1 0 0 0 1 0 1 1 0 1 0 1 0 0 0 0 0 0 1 0 1 0 1 0 0 0 0 0 0 0 1 0 0 0 0 1 0\n",
            " 0 1 0 0 1 0 0 0 0 0 1 0 1 1 0 0 0 1 0 0 0 1 1 1 1 1 0 0 1 0 1 0 0 1 1 0 1\n",
            " 1 0 1 0 0 1 1 1 0 0 1 1 0 1 1 1 0 1 1 0 1 1 0 1 1 1 1 0 0 1 1 0 0 0 0 1 0\n",
            " 0 0 0 1 1 0 1 0 1 1 0 1 0 1 0 1 1 1 0 1 0 0 1 0 1 0 1 0 0 1 1 0 1 0 0 0 0\n",
            " 0 1 0 1 0 1 1 0 1 0 0 1 0 0 1 1 1 0 1 1 0 0 0 0 1 1 0 0 0 1 1 0 1 0 1 1 0\n",
            " 1 0 1 0 0 0 1 0 1 1 1 0 1 0 0 1 1 0 1 0 0 0 1 1 0 1 1 1 1 0 0 1 1 0 1 1 0\n",
            " 0]\n"
          ]
        }
      ],
      "source": [
        "import numpy as np\n",
        "\n",
        "y_predicted = np.where(y_predicted > 0.5, 1, 0)\n",
        "\n",
        "print(y_predicted)"
      ]
    },
    {
      "cell_type": "code",
      "execution_count": 37,
      "metadata": {
        "id": "iHTtmrk33-cM",
        "colab": {
          "base_uri": "https://localhost:8080/"
        },
        "outputId": "21fd8b41-8a09-474b-c92c-e543457fd950"
      },
      "outputs": [
        {
          "output_type": "stream",
          "name": "stdout",
          "text": [
            "[[430  70]\n",
            " [ 22 478]]\n"
          ]
        }
      ],
      "source": [
        "from sklearn.metrics import confusion_matrix, classification_report\n",
        "\n",
        "cm = confusion_matrix(y_test, y_predicted)\n",
        "print(cm)"
      ]
    },
    {
      "cell_type": "code",
      "execution_count": 38,
      "metadata": {
        "id": "DY3GVv--4mtY",
        "colab": {
          "base_uri": "https://localhost:8080/",
          "height": 466
        },
        "outputId": "681361b6-4ec2-491e-cf36-08cee80d6147"
      },
      "outputs": [
        {
          "output_type": "execute_result",
          "data": {
            "text/plain": [
              "Text(50.722222222222214, 0.5, 'truth')"
            ]
          },
          "metadata": {},
          "execution_count": 38
        },
        {
          "output_type": "display_data",
          "data": {
            "text/plain": [
              "<Figure size 640x480 with 2 Axes>"
            ],
            "image/png": "[encoded data removed]"
          },
          "metadata": {}
        }
      ],
      "source": [
        "from matplotlib import pyplot as plt\n",
        "import seaborn as sn\n",
        "\n",
        "sn.heatmap(cm, annot=True, fmt='d')\n",
        "plt.xlabel('predicted')\n",
        "plt.ylabel('truth')"
      ]
    },
    {
      "cell_type": "code",
      "execution_count": 39,
      "metadata": {
        "id": "bYCVD7Dx5IRw",
        "colab": {
          "base_uri": "https://localhost:8080/"
        },
        "outputId": "c9283b83-20b8-4ca7-d71c-4386c8882f54"
      },
      "outputs": [
        {
          "output_type": "stream",
          "name": "stdout",
          "text": [
            "              precision    recall  f1-score   support\n",
            "\n",
            "           0       0.95      0.86      0.90       500\n",
            "           1       0.87      0.96      0.91       500\n",
            "\n",
            "    accuracy                           0.91      1000\n",
            "   macro avg       0.91      0.91      0.91      1000\n",
            "weighted avg       0.91      0.91      0.91      1000\n",
            "\n"
          ]
        }
      ],
      "source": [
        "print(classification_report(y_test, y_predicted))"
      ]
    }
  ],
  "metadata": {
    "colab": {
      "provenance": [],
      "gpuType": "A100",
      "authorship_tag": "ABX9TyNpmDNWEAaTymVzVJi2VGSU",
      "include_colab_link": true
    },
    "kernelspec": {
      "display_name": "Python 3",
      "name": "python3"
    },
    "language_info": {
      "name": "python"
    },
    "accelerator": "GPU"
  },
  "nbformat": 4,
  "nbformat_minor": 0
}